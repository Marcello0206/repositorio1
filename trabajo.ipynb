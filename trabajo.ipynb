{
 "cells": [
  {
   "cell_type": "markdown",
   "id": "a4918abc",
   "metadata": {},
   "source": [
    "## TRABAJO GRUPAL\n",
    "\n",
    "![](https://www.carrerasadistancia.com.pe/logos/original/logo-universidad-nacional-agraria-la-molina.png)"
   ]
  },
  {
   "cell_type": "code",
   "execution_count": null,
   "id": "edf3b6d2",
   "metadata": {},
   "outputs": [],
   "source": []
  },
  {
   "cell_type": "markdown",
   "id": "da371ce3",
   "metadata": {},
   "source": [
    "LA MOLINA SIEMPRE ADELANTE\n",
    "Y POR ENCIMA DE TODOS ESTARÁ\n",
    "PORQUE SON SUS MUCHACHOS ALEGRES,\n",
    "Y ES SU LEMA UNIÓN Y LEALTAD\n",
    "VERDE Y DORADO SON NUESTROS COLORES,\n",
    "QUE SIMBOLIZAN EL CAMPO Y EL SOL,\n",
    "EN LA CIENCIA Y EN LOS DEPORTES,\n",
    "UNIDOS SABREMOS LUCHAR,\n",
    "Y DISPUESTOS POR SIEMPRE A VENCER\n",
    "AQUÍ ESTAMOS LOS DE LA MOLINA\n",
    "CON EL ESPÍRITU DE LA JUVENTUD,\n",
    "JUVENTUD QUE ES GLORIOSA EN EL MUNDO,\n",
    "VA POR DOQUIER MOSTRANDO SU VALOR.\n",
    "CANTEMOS TODOS EL HIMNO QUERIDO\n",
    "CON ENTUSIASMO Y VENERACIÓN,\n",
    "LA MOLINA SIEMPRE ADELANTE\n",
    "ES NUESTRA ASPIRACIÓN…………….\n",
    "Y ES NUESTRA DECISIÓN. "
   ]
  },
  {
   "cell_type": "markdown",
   "id": "ffe806c5",
   "metadata": {},
   "source": [
    "### Hallando los múltiplos de 6 menores o iguales a 150"
   ]
  },
  {
   "cell_type": "code",
   "execution_count": 4,
   "id": "4234a5f5",
   "metadata": {},
   "outputs": [
    {
     "name": "stdout",
     "output_type": "stream",
     "text": [
      "6\n",
      "12\n",
      "18\n",
      "24\n",
      "30\n",
      "36\n",
      "42\n",
      "48\n",
      "54\n",
      "60\n",
      "66\n",
      "72\n",
      "78\n",
      "84\n",
      "90\n",
      "96\n",
      "102\n",
      "108\n",
      "114\n",
      "120\n",
      "126\n",
      "132\n",
      "138\n",
      "144\n",
      "150\n",
      "done\n"
     ]
    }
   ],
   "source": [
    "i=2\n",
    "multiplo = 6\n",
    "while multiplo <= 150:\n",
    "   print(multiplo)\n",
    "   multiplo = i*6\n",
    "   i = i + 1\n",
    "print('done')"
   ]
  },
  {
   "cell_type": "markdown",
   "id": "805c6999",
   "metadata": {},
   "source": [
    "### ¿Cómo sumar los elementos de una matriz?"
   ]
  },
  {
   "cell_type": "code",
   "execution_count": 5,
   "id": "a8ae84fa",
   "metadata": {},
   "outputs": [],
   "source": [
    "def suma(datos):\n",
    "    x=len(datos)\n",
    "    s=0\n",
    "    sumtotal=0\n",
    "    while s < x:\n",
    "        sumtotal = sum(datos[s]) + sumtotal\n",
    "        s = s+1\n",
    "    return sumtotal"
   ]
  },
  {
   "cell_type": "code",
   "execution_count": 6,
   "id": "5d9198a0",
   "metadata": {},
   "outputs": [
    {
     "data": {
      "text/plain": [
       "973"
      ]
     },
     "execution_count": 6,
     "metadata": {},
     "output_type": "execute_result"
    }
   ],
   "source": [
    "dts = [[8, 129,123],[324,32,321],[32,0,4]]\n",
    "suma(dts)"
   ]
  },
  {
   "cell_type": "code",
   "execution_count": null,
   "id": "c542e2e9",
   "metadata": {},
   "outputs": [],
   "source": []
  }
 ],
 "metadata": {
  "kernelspec": {
   "display_name": "Python 3 (ipykernel)",
   "language": "python",
   "name": "python3"
  },
  "language_info": {
   "codemirror_mode": {
    "name": "ipython",
    "version": 3
   },
   "file_extension": ".py",
   "mimetype": "text/x-python",
   "name": "python",
   "nbconvert_exporter": "python",
   "pygments_lexer": "ipython3",
   "version": "3.9.13"
  }
 },
 "nbformat": 4,
 "nbformat_minor": 5
}
